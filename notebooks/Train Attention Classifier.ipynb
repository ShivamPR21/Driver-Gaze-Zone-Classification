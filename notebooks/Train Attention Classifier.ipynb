{
 "cells": [
  {
   "cell_type": "markdown",
   "id": "33c18284",
   "metadata": {},
   "source": [
    "## 17807671 Shivam Pandey\n",
    "### Assignment3 CE784A\n",
    "> For complete source code pl. refer to following repositories\n",
    "> https://github.com/ShivamPR21/ModuleZooTorch\n",
    "> https://github.com/ShivamPR21/Driver-Gaze-Zone-Classification\n",
    "> Code credit @ShivamPR21"
   ]
  },
  {
   "cell_type": "markdown",
   "id": "3d343da9",
   "metadata": {},
   "source": [
    "### Import relevent modules"
   ]
  },
  {
   "cell_type": "code",
   "execution_count": 1,
   "id": "dddab957",
   "metadata": {},
   "outputs": [],
   "source": [
    "import numpy as np\n",
    "import matplotlib.pyplot as plt\n",
    "\n",
    "from torch.utils.data import DataLoader\n",
    "import torch.nn as nn\n",
    "import torchsummary\n",
    "import torch\n",
    "import torch.optim as optim\n",
    "\n",
    "from dgzc.dataset import DGZCClassifierDataset\n",
    "from dgzc.classifier import ClassificationBackbone2"
   ]
  },
  {
   "cell_type": "markdown",
   "id": "a47e35ef",
   "metadata": {},
   "source": [
    "### Define training dataset"
   ]
  },
  {
   "cell_type": "code",
   "execution_count": 2,
   "id": "f9cc4bea",
   "metadata": {},
   "outputs": [],
   "source": [
    "data_path = \"/home/shivam/2021-22-2/ML4CE/Assignments/Assignment3/Driver-Gaze-Zone-Classification/data/gaze_dataset\"\n",
    "# dataset_auto_enc = DGZCAutoEncoderDataset(data_path, size=(200, 200))\n",
    "dataset_classifier = DGZCClassifierDataset(data_path, size=(200, 200))\n",
    "# dataset_inference = DGZCInferenceDataset(data_path, size=(200, 200))"
   ]
  },
  {
   "cell_type": "markdown",
   "id": "1d7dec40",
   "metadata": {},
   "source": [
    "### Create the dataloader with batch size `10`"
   ]
  },
  {
   "cell_type": "code",
   "execution_count": 3,
   "id": "b49ec19e",
   "metadata": {},
   "outputs": [],
   "source": [
    "dataloader = DataLoader(dataset_classifier, batch_size = 10, shuffle = True, num_workers=5)"
   ]
  },
  {
   "cell_type": "markdown",
   "id": "4e7c76cf",
   "metadata": {},
   "source": [
    "### Set the device to GPU if available"
   ]
  },
  {
   "cell_type": "code",
   "execution_count": 4,
   "id": "01899652",
   "metadata": {},
   "outputs": [],
   "source": [
    "device = torch.device('cuda' if torch.cuda.is_available() else 'cpu')"
   ]
  },
  {
   "cell_type": "code",
   "execution_count": 5,
   "id": "464969c3",
   "metadata": {},
   "outputs": [],
   "source": [
    "data_len = len(dataloader)\n",
    "log_n = int(data_len//3)"
   ]
  },
  {
   "cell_type": "markdown",
   "id": "a607f9f5",
   "metadata": {},
   "source": [
    "### Create model instance"
   ]
  },
  {
   "cell_type": "code",
   "execution_count": 6,
   "id": "bb8b1312",
   "metadata": {},
   "outputs": [
    {
     "data": {
      "text/plain": [
       "ClassificationBackbone2(\n",
       "  (encoder): Encoder(\n",
       "    (conv1): Conv2DNormActivation(\n",
       "      (0): Conv2d(3, 5, kernel_size=(5, 5), stride=(2, 2))\n",
       "      (1): SELU()\n",
       "    )\n",
       "    (conv2): Conv2DNormActivation(\n",
       "      (0): Conv2d(5, 10, kernel_size=(5, 5), stride=(1, 1), bias=False)\n",
       "      (1): BatchNorm2d(10, eps=1e-05, momentum=0.1, affine=True, track_running_stats=True)\n",
       "      (2): SELU()\n",
       "    )\n",
       "    (max_pool2): MaxPool2d(kernel_size=2, stride=2, padding=0, dilation=1, ceil_mode=False)\n",
       "    (conv3): Conv2DNormActivation(\n",
       "      (0): Conv2d(10, 20, kernel_size=(3, 3), stride=(1, 1))\n",
       "      (1): SELU()\n",
       "    )\n",
       "    (conv4): Conv2DNormActivation(\n",
       "      (0): Conv2d(20, 20, kernel_size=(3, 3), stride=(1, 1))\n",
       "      (1): SELU()\n",
       "    )\n",
       "    (conv5): Conv2DNormActivation(\n",
       "      (0): Conv2d(20, 30, kernel_size=(3, 3), stride=(1, 1), bias=False)\n",
       "      (1): BatchNorm2d(30, eps=1e-05, momentum=0.1, affine=True, track_running_stats=True)\n",
       "      (2): SELU()\n",
       "    )\n",
       "    (conv6): Conv2DNormActivation(\n",
       "      (0): Conv2d(30, 40, kernel_size=(3, 3), stride=(1, 1))\n",
       "      (1): SELU()\n",
       "    )\n",
       "  )\n",
       "  (attention1): SelfAttention(\n",
       "    (query_conv): Conv2d(40, 5, kernel_size=(1, 1), stride=(1, 1))\n",
       "    (key_conv): Conv2d(40, 5, kernel_size=(1, 1), stride=(1, 1))\n",
       "    (value_conv): Conv2d(40, 40, kernel_size=(1, 1), stride=(1, 1))\n",
       "    (softmax): Softmax(dim=-1)\n",
       "  )\n",
       "  (conv1): Conv2DNormActivation(\n",
       "    (0): Conv2d(40, 50, kernel_size=(3, 3), stride=(2, 2))\n",
       "    (1): SELU()\n",
       "  )\n",
       "  (attention2): SelfAttention(\n",
       "    (query_conv): Conv2d(50, 6, kernel_size=(1, 1), stride=(1, 1))\n",
       "    (key_conv): Conv2d(50, 6, kernel_size=(1, 1), stride=(1, 1))\n",
       "    (value_conv): Conv2d(50, 50, kernel_size=(1, 1), stride=(1, 1))\n",
       "    (softmax): Softmax(dim=-1)\n",
       "  )\n",
       "  (conv2): Conv2DNormActivation(\n",
       "    (0): Conv2d(50, 40, kernel_size=(3, 3), stride=(2, 2))\n",
       "    (1): SELU()\n",
       "  )\n",
       "  (conv3): Conv2DNormActivation(\n",
       "    (0): Conv2d(40, 30, kernel_size=(3, 3), stride=(2, 2), bias=False)\n",
       "    (1): BatchNorm2d(30, eps=1e-05, momentum=0.1, affine=True, track_running_stats=True)\n",
       "    (2): SELU()\n",
       "  )\n",
       "  (conv4): Conv2DNormActivation(\n",
       "    (0): Conv2d(30, 20, kernel_size=(3, 3), stride=(2, 2))\n",
       "    (1): SELU()\n",
       "  )\n",
       "  (linear1): Linear(in_features=20, out_features=10, bias=True)\n",
       "  (linear2): Linear(in_features=10, out_features=5, bias=True)\n",
       "  (activation): SELU()\n",
       "  (classifier): Softmax(dim=1)\n",
       ")"
      ]
     },
     "execution_count": 6,
     "metadata": {},
     "output_type": "execute_result"
    }
   ],
   "source": [
    "model = ClassificationBackbone2(l=1.)\n",
    "model.to(device)"
   ]
  },
  {
   "cell_type": "markdown",
   "id": "5bb94d71",
   "metadata": {},
   "source": [
    "### Load pretrained weight dicts"
   ]
  },
  {
   "cell_type": "code",
   "execution_count": 7,
   "id": "baf81260",
   "metadata": {},
   "outputs": [],
   "source": [
    "load_prev_auto_enc_state = False\n",
    "load_prev_model_state = True\n",
    "if load_prev_auto_enc_state:\n",
    "    model.encoder.load_state_dict(torch.load('./encoder_state'))\n",
    "elif load_prev_model_state:\n",
    "    model.load_state_dict(torch.load('./simple_backbone2_model'))"
   ]
  },
  {
   "cell_type": "markdown",
   "id": "212c2993",
   "metadata": {},
   "source": [
    "### View model summary"
   ]
  },
  {
   "cell_type": "code",
   "execution_count": 8,
   "id": "d1f7d9dd",
   "metadata": {},
   "outputs": [
    {
     "name": "stdout",
     "output_type": "stream",
     "text": [
      "----------------------------------------------------------------\n",
      "        Layer (type)               Output Shape         Param #\n",
      "================================================================\n",
      "            Conv2d-1            [-1, 5, 98, 98]             380\n",
      "              SELU-2            [-1, 5, 98, 98]               0\n",
      "            Conv2d-3           [-1, 10, 94, 94]           1,250\n",
      "       BatchNorm2d-4           [-1, 10, 94, 94]              20\n",
      "              SELU-5           [-1, 10, 94, 94]               0\n",
      "         MaxPool2d-6           [-1, 10, 47, 47]               0\n",
      "            Conv2d-7           [-1, 20, 45, 45]           1,820\n",
      "              SELU-8           [-1, 20, 45, 45]               0\n",
      "            Conv2d-9           [-1, 20, 43, 43]           3,620\n",
      "             SELU-10           [-1, 20, 43, 43]               0\n",
      "           Conv2d-11           [-1, 30, 41, 41]           5,400\n",
      "      BatchNorm2d-12           [-1, 30, 41, 41]              60\n",
      "             SELU-13           [-1, 30, 41, 41]               0\n",
      "           Conv2d-14           [-1, 40, 39, 39]          10,840\n",
      "             SELU-15           [-1, 40, 39, 39]               0\n",
      "          Encoder-16           [-1, 40, 39, 39]               0\n",
      "           Conv2d-17            [-1, 5, 39, 39]             205\n",
      "           Conv2d-18            [-1, 5, 39, 39]             205\n",
      "          Softmax-19           [-1, 1521, 1521]               0\n",
      "           Conv2d-20           [-1, 40, 39, 39]           1,640\n",
      "    SelfAttention-21           [-1, 40, 39, 39]               0\n",
      "           Conv2d-22           [-1, 50, 19, 19]          18,050\n",
      "             SELU-23           [-1, 50, 19, 19]               0\n",
      "           Conv2d-24            [-1, 6, 19, 19]             306\n",
      "           Conv2d-25            [-1, 6, 19, 19]             306\n",
      "          Softmax-26             [-1, 361, 361]               0\n",
      "           Conv2d-27           [-1, 50, 19, 19]           2,550\n",
      "    SelfAttention-28           [-1, 50, 19, 19]               0\n",
      "           Conv2d-29             [-1, 40, 9, 9]          18,040\n",
      "             SELU-30             [-1, 40, 9, 9]               0\n",
      "           Conv2d-31             [-1, 30, 4, 4]          10,800\n",
      "      BatchNorm2d-32             [-1, 30, 4, 4]              60\n",
      "             SELU-33             [-1, 30, 4, 4]               0\n",
      "           Conv2d-34             [-1, 20, 1, 1]           5,420\n",
      "             SELU-35             [-1, 20, 1, 1]               0\n",
      "           Linear-36                   [-1, 10]             210\n",
      "             SELU-37                   [-1, 10]               0\n",
      "           Linear-38                    [-1, 5]              55\n",
      "          Softmax-39                    [-1, 5]               0\n",
      "================================================================\n",
      "Total params: 81,237\n",
      "Trainable params: 81,237\n",
      "Non-trainable params: 0\n",
      "----------------------------------------------------------------\n",
      "Input size (MB): 0.46\n",
      "Forward/backward pass size (MB): 26.99\n",
      "Params size (MB): 0.31\n",
      "Estimated Total Size (MB): 27.75\n",
      "----------------------------------------------------------------\n"
     ]
    }
   ],
   "source": [
    "torchsummary.summary(model, (3, 200, 200))"
   ]
  },
  {
   "cell_type": "markdown",
   "id": "0bf8661c",
   "metadata": {},
   "source": [
    "### Define loss function, and optimizer instances"
   ]
  },
  {
   "cell_type": "code",
   "execution_count": 9,
   "id": "0933f6f3",
   "metadata": {},
   "outputs": [],
   "source": [
    "criterion =  nn.CrossEntropyLoss() # Classification Loss function\n",
    "params_list = model.parameters() # model parameters\n",
    "optimizer = optim.AdamW(params_list, lr = 0.0007, weight_decay=0.0001)"
   ]
  },
  {
   "cell_type": "markdown",
   "id": "b2b22a8a",
   "metadata": {},
   "source": [
    "### Define function to compute loss, and accuracy"
   ]
  },
  {
   "cell_type": "code",
   "execution_count": 10,
   "id": "a189770e",
   "metadata": {},
   "outputs": [],
   "source": [
    "def compute_loss(dl, model, crt):\n",
    "    total_loss = 0.\n",
    "    cnt = 0\n",
    "    total = 0\n",
    "    correct = 0\n",
    "    # since we're not training, we don't need to calculate the gradients for our outputs\n",
    "    with torch.no_grad():\n",
    "        for data, target in dl:\n",
    "            data = data.to(device)\n",
    "            target = target.to(device)\n",
    "            \n",
    "            # calculate outputs by running images through the network\n",
    "            cls = model(data)\n",
    "\n",
    "            loss = crt(cls, target)\n",
    "            \n",
    "            total_loss += loss.item()\n",
    "            \n",
    "            predictions = cls.max(dim=1)[1]\n",
    "            total += predictions.size(0)\n",
    "            correct += (predictions == target).sum().item()\n",
    "            cnt += 1\n",
    "            \n",
    "    return [total_loss/cnt, correct/total]"
   ]
  },
  {
   "cell_type": "markdown",
   "id": "1c6e0dc8",
   "metadata": {},
   "source": [
    "### Set model as trainable"
   ]
  },
  {
   "cell_type": "code",
   "execution_count": 11,
   "id": "5e48c630",
   "metadata": {},
   "outputs": [],
   "source": [
    "rll = []\n",
    "total_loss = []"
   ]
  },
  {
   "cell_type": "code",
   "execution_count": 12,
   "id": "de4f52da",
   "metadata": {},
   "outputs": [
    {
     "data": {
      "text/plain": [
       "ClassificationBackbone2(\n",
       "  (encoder): Encoder(\n",
       "    (conv1): Conv2DNormActivation(\n",
       "      (0): Conv2d(3, 5, kernel_size=(5, 5), stride=(2, 2))\n",
       "      (1): SELU()\n",
       "    )\n",
       "    (conv2): Conv2DNormActivation(\n",
       "      (0): Conv2d(5, 10, kernel_size=(5, 5), stride=(1, 1), bias=False)\n",
       "      (1): BatchNorm2d(10, eps=1e-05, momentum=0.1, affine=True, track_running_stats=True)\n",
       "      (2): SELU()\n",
       "    )\n",
       "    (max_pool2): MaxPool2d(kernel_size=2, stride=2, padding=0, dilation=1, ceil_mode=False)\n",
       "    (conv3): Conv2DNormActivation(\n",
       "      (0): Conv2d(10, 20, kernel_size=(3, 3), stride=(1, 1))\n",
       "      (1): SELU()\n",
       "    )\n",
       "    (conv4): Conv2DNormActivation(\n",
       "      (0): Conv2d(20, 20, kernel_size=(3, 3), stride=(1, 1))\n",
       "      (1): SELU()\n",
       "    )\n",
       "    (conv5): Conv2DNormActivation(\n",
       "      (0): Conv2d(20, 30, kernel_size=(3, 3), stride=(1, 1), bias=False)\n",
       "      (1): BatchNorm2d(30, eps=1e-05, momentum=0.1, affine=True, track_running_stats=True)\n",
       "      (2): SELU()\n",
       "    )\n",
       "    (conv6): Conv2DNormActivation(\n",
       "      (0): Conv2d(30, 40, kernel_size=(3, 3), stride=(1, 1))\n",
       "      (1): SELU()\n",
       "    )\n",
       "  )\n",
       "  (attention1): SelfAttention(\n",
       "    (query_conv): Conv2d(40, 5, kernel_size=(1, 1), stride=(1, 1))\n",
       "    (key_conv): Conv2d(40, 5, kernel_size=(1, 1), stride=(1, 1))\n",
       "    (value_conv): Conv2d(40, 40, kernel_size=(1, 1), stride=(1, 1))\n",
       "    (softmax): Softmax(dim=-1)\n",
       "  )\n",
       "  (conv1): Conv2DNormActivation(\n",
       "    (0): Conv2d(40, 50, kernel_size=(3, 3), stride=(2, 2))\n",
       "    (1): SELU()\n",
       "  )\n",
       "  (attention2): SelfAttention(\n",
       "    (query_conv): Conv2d(50, 6, kernel_size=(1, 1), stride=(1, 1))\n",
       "    (key_conv): Conv2d(50, 6, kernel_size=(1, 1), stride=(1, 1))\n",
       "    (value_conv): Conv2d(50, 50, kernel_size=(1, 1), stride=(1, 1))\n",
       "    (softmax): Softmax(dim=-1)\n",
       "  )\n",
       "  (conv2): Conv2DNormActivation(\n",
       "    (0): Conv2d(50, 40, kernel_size=(3, 3), stride=(2, 2))\n",
       "    (1): SELU()\n",
       "  )\n",
       "  (conv3): Conv2DNormActivation(\n",
       "    (0): Conv2d(40, 30, kernel_size=(3, 3), stride=(2, 2), bias=False)\n",
       "    (1): BatchNorm2d(30, eps=1e-05, momentum=0.1, affine=True, track_running_stats=True)\n",
       "    (2): SELU()\n",
       "  )\n",
       "  (conv4): Conv2DNormActivation(\n",
       "    (0): Conv2d(30, 20, kernel_size=(3, 3), stride=(2, 2))\n",
       "    (1): SELU()\n",
       "  )\n",
       "  (linear1): Linear(in_features=20, out_features=10, bias=True)\n",
       "  (linear2): Linear(in_features=10, out_features=5, bias=True)\n",
       "  (activation): SELU()\n",
       "  (classifier): Softmax(dim=1)\n",
       ")"
      ]
     },
     "execution_count": 12,
     "metadata": {},
     "output_type": "execute_result"
    }
   ],
   "source": [
    "model.train()"
   ]
  },
  {
   "cell_type": "markdown",
   "id": "77c1241c",
   "metadata": {},
   "source": [
    "### Run the training loop for 50 epochs"
   ]
  },
  {
   "cell_type": "code",
   "execution_count": 13,
   "id": "818114bf",
   "metadata": {
    "scrolled": true
   },
   "outputs": [
    {
     "name": "stdout",
     "output_type": "stream",
     "text": [
      "Epoch : 0, Iteration : 82,Running loss : 1.0676548746695, Train Accuracy : 0.8409638554216867\n",
      "Epoch : 0, Iteration : 165,Running loss : 1.083013941006488, Train Accuracy : 0.8253012048192772\n",
      "Epoch : 0, Iteration : 248,Running loss : 1.0893113081713757, Train Accuracy : 0.8240963855421687\n",
      "Total loss : [1.071226634979248, 0.8404]\n",
      "Epoch : 1, Iteration : 82,Running loss : 1.0493211128625526, Train Accuracy : 0.8566265060240964\n",
      "Epoch : 1, Iteration : 165,Running loss : 1.088340223553669, Train Accuracy : 0.8180722891566266\n",
      "Epoch : 1, Iteration : 248,Running loss : 1.0670434940292175, Train Accuracy : 0.8409638554216867\n",
      "Epoch : 2, Iteration : 82,Running loss : 1.0455826456288257, Train Accuracy : 0.8674698795180723\n",
      "Epoch : 2, Iteration : 165,Running loss : 1.0741092584219323, Train Accuracy : 0.8301204819277108\n",
      "Epoch : 2, Iteration : 248,Running loss : 1.0780946332288075, Train Accuracy : 0.8337349397590361\n",
      "Epoch : 3, Iteration : 82,Running loss : 1.0438413361468948, Train Accuracy : 0.863855421686747\n"
     ]
    },
    {
     "ename": "KeyboardInterrupt",
     "evalue": "",
     "output_type": "error",
     "traceback": [
      "\u001b[0;31m---------------------------------------------------------------------------\u001b[0m",
      "\u001b[0;31mKeyboardInterrupt\u001b[0m                         Traceback (most recent call last)",
      "Input \u001b[0;32mIn [13]\u001b[0m, in \u001b[0;36m<module>\u001b[0;34m\u001b[0m\n\u001b[1;32m      3\u001b[0m total \u001b[38;5;241m=\u001b[39m \u001b[38;5;241m0.\u001b[39m\n\u001b[1;32m      4\u001b[0m correct \u001b[38;5;241m=\u001b[39m \u001b[38;5;241m0.\u001b[39m\n\u001b[0;32m----> 5\u001b[0m \u001b[38;5;28;01mfor\u001b[39;00m i, (data, target) \u001b[38;5;129;01min\u001b[39;00m \u001b[38;5;28menumerate\u001b[39m(dataloader):\n\u001b[1;32m      6\u001b[0m     data \u001b[38;5;241m=\u001b[39m data\u001b[38;5;241m.\u001b[39mto(device) \u001b[38;5;66;03m# Move data to target device\u001b[39;00m\n\u001b[1;32m      7\u001b[0m     target \u001b[38;5;241m=\u001b[39m target\u001b[38;5;241m.\u001b[39mto(device)\n",
      "File \u001b[0;32m~/.venv/clort/lib/python3.8/site-packages/torch/utils/data/dataloader.py:530\u001b[0m, in \u001b[0;36m_BaseDataLoaderIter.__next__\u001b[0;34m(self)\u001b[0m\n\u001b[1;32m    528\u001b[0m \u001b[38;5;28;01mif\u001b[39;00m \u001b[38;5;28mself\u001b[39m\u001b[38;5;241m.\u001b[39m_sampler_iter \u001b[38;5;129;01mis\u001b[39;00m \u001b[38;5;28;01mNone\u001b[39;00m:\n\u001b[1;32m    529\u001b[0m     \u001b[38;5;28mself\u001b[39m\u001b[38;5;241m.\u001b[39m_reset()\n\u001b[0;32m--> 530\u001b[0m data \u001b[38;5;241m=\u001b[39m \u001b[38;5;28;43mself\u001b[39;49m\u001b[38;5;241;43m.\u001b[39;49m\u001b[43m_next_data\u001b[49m\u001b[43m(\u001b[49m\u001b[43m)\u001b[49m\n\u001b[1;32m    531\u001b[0m \u001b[38;5;28mself\u001b[39m\u001b[38;5;241m.\u001b[39m_num_yielded \u001b[38;5;241m+\u001b[39m\u001b[38;5;241m=\u001b[39m \u001b[38;5;241m1\u001b[39m\n\u001b[1;32m    532\u001b[0m \u001b[38;5;28;01mif\u001b[39;00m \u001b[38;5;28mself\u001b[39m\u001b[38;5;241m.\u001b[39m_dataset_kind \u001b[38;5;241m==\u001b[39m _DatasetKind\u001b[38;5;241m.\u001b[39mIterable \u001b[38;5;129;01mand\u001b[39;00m \\\n\u001b[1;32m    533\u001b[0m         \u001b[38;5;28mself\u001b[39m\u001b[38;5;241m.\u001b[39m_IterableDataset_len_called \u001b[38;5;129;01mis\u001b[39;00m \u001b[38;5;129;01mnot\u001b[39;00m \u001b[38;5;28;01mNone\u001b[39;00m \u001b[38;5;129;01mand\u001b[39;00m \\\n\u001b[1;32m    534\u001b[0m         \u001b[38;5;28mself\u001b[39m\u001b[38;5;241m.\u001b[39m_num_yielded \u001b[38;5;241m>\u001b[39m \u001b[38;5;28mself\u001b[39m\u001b[38;5;241m.\u001b[39m_IterableDataset_len_called:\n",
      "File \u001b[0;32m~/.venv/clort/lib/python3.8/site-packages/torch/utils/data/dataloader.py:1207\u001b[0m, in \u001b[0;36m_MultiProcessingDataLoaderIter._next_data\u001b[0;34m(self)\u001b[0m\n\u001b[1;32m   1204\u001b[0m     \u001b[38;5;28;01mreturn\u001b[39;00m \u001b[38;5;28mself\u001b[39m\u001b[38;5;241m.\u001b[39m_process_data(data)\n\u001b[1;32m   1206\u001b[0m \u001b[38;5;28;01massert\u001b[39;00m \u001b[38;5;129;01mnot\u001b[39;00m \u001b[38;5;28mself\u001b[39m\u001b[38;5;241m.\u001b[39m_shutdown \u001b[38;5;129;01mand\u001b[39;00m \u001b[38;5;28mself\u001b[39m\u001b[38;5;241m.\u001b[39m_tasks_outstanding \u001b[38;5;241m>\u001b[39m \u001b[38;5;241m0\u001b[39m\n\u001b[0;32m-> 1207\u001b[0m idx, data \u001b[38;5;241m=\u001b[39m \u001b[38;5;28;43mself\u001b[39;49m\u001b[38;5;241;43m.\u001b[39;49m\u001b[43m_get_data\u001b[49m\u001b[43m(\u001b[49m\u001b[43m)\u001b[49m\n\u001b[1;32m   1208\u001b[0m \u001b[38;5;28mself\u001b[39m\u001b[38;5;241m.\u001b[39m_tasks_outstanding \u001b[38;5;241m-\u001b[39m\u001b[38;5;241m=\u001b[39m \u001b[38;5;241m1\u001b[39m\n\u001b[1;32m   1209\u001b[0m \u001b[38;5;28;01mif\u001b[39;00m \u001b[38;5;28mself\u001b[39m\u001b[38;5;241m.\u001b[39m_dataset_kind \u001b[38;5;241m==\u001b[39m _DatasetKind\u001b[38;5;241m.\u001b[39mIterable:\n\u001b[1;32m   1210\u001b[0m     \u001b[38;5;66;03m# Check for _IterableDatasetStopIteration\u001b[39;00m\n",
      "File \u001b[0;32m~/.venv/clort/lib/python3.8/site-packages/torch/utils/data/dataloader.py:1173\u001b[0m, in \u001b[0;36m_MultiProcessingDataLoaderIter._get_data\u001b[0;34m(self)\u001b[0m\n\u001b[1;32m   1169\u001b[0m     \u001b[38;5;66;03m# In this case, `self._data_queue` is a `queue.Queue`,. But we don't\u001b[39;00m\n\u001b[1;32m   1170\u001b[0m     \u001b[38;5;66;03m# need to call `.task_done()` because we don't use `.join()`.\u001b[39;00m\n\u001b[1;32m   1171\u001b[0m \u001b[38;5;28;01melse\u001b[39;00m:\n\u001b[1;32m   1172\u001b[0m     \u001b[38;5;28;01mwhile\u001b[39;00m \u001b[38;5;28;01mTrue\u001b[39;00m:\n\u001b[0;32m-> 1173\u001b[0m         success, data \u001b[38;5;241m=\u001b[39m \u001b[38;5;28;43mself\u001b[39;49m\u001b[38;5;241;43m.\u001b[39;49m\u001b[43m_try_get_data\u001b[49m\u001b[43m(\u001b[49m\u001b[43m)\u001b[49m\n\u001b[1;32m   1174\u001b[0m         \u001b[38;5;28;01mif\u001b[39;00m success:\n\u001b[1;32m   1175\u001b[0m             \u001b[38;5;28;01mreturn\u001b[39;00m data\n",
      "File \u001b[0;32m~/.venv/clort/lib/python3.8/site-packages/torch/utils/data/dataloader.py:1011\u001b[0m, in \u001b[0;36m_MultiProcessingDataLoaderIter._try_get_data\u001b[0;34m(self, timeout)\u001b[0m\n\u001b[1;32m    998\u001b[0m \u001b[38;5;28;01mdef\u001b[39;00m \u001b[38;5;21m_try_get_data\u001b[39m(\u001b[38;5;28mself\u001b[39m, timeout\u001b[38;5;241m=\u001b[39m_utils\u001b[38;5;241m.\u001b[39mMP_STATUS_CHECK_INTERVAL):\n\u001b[1;32m    999\u001b[0m     \u001b[38;5;66;03m# Tries to fetch data from `self._data_queue` once for a given timeout.\u001b[39;00m\n\u001b[1;32m   1000\u001b[0m     \u001b[38;5;66;03m# This can also be used as inner loop of fetching without timeout, with\u001b[39;00m\n\u001b[0;32m   (...)\u001b[0m\n\u001b[1;32m   1008\u001b[0m     \u001b[38;5;66;03m# Returns a 2-tuple:\u001b[39;00m\n\u001b[1;32m   1009\u001b[0m     \u001b[38;5;66;03m#   (bool: whether successfully get data, any: data if successful else None)\u001b[39;00m\n\u001b[1;32m   1010\u001b[0m     \u001b[38;5;28;01mtry\u001b[39;00m:\n\u001b[0;32m-> 1011\u001b[0m         data \u001b[38;5;241m=\u001b[39m \u001b[38;5;28;43mself\u001b[39;49m\u001b[38;5;241;43m.\u001b[39;49m\u001b[43m_data_queue\u001b[49m\u001b[38;5;241;43m.\u001b[39;49m\u001b[43mget\u001b[49m\u001b[43m(\u001b[49m\u001b[43mtimeout\u001b[49m\u001b[38;5;241;43m=\u001b[39;49m\u001b[43mtimeout\u001b[49m\u001b[43m)\u001b[49m\n\u001b[1;32m   1012\u001b[0m         \u001b[38;5;28;01mreturn\u001b[39;00m (\u001b[38;5;28;01mTrue\u001b[39;00m, data)\n\u001b[1;32m   1013\u001b[0m     \u001b[38;5;28;01mexcept\u001b[39;00m \u001b[38;5;167;01mException\u001b[39;00m \u001b[38;5;28;01mas\u001b[39;00m e:\n\u001b[1;32m   1014\u001b[0m         \u001b[38;5;66;03m# At timeout and error, we manually check whether any worker has\u001b[39;00m\n\u001b[1;32m   1015\u001b[0m         \u001b[38;5;66;03m# failed. Note that this is the only mechanism for Windows to detect\u001b[39;00m\n\u001b[1;32m   1016\u001b[0m         \u001b[38;5;66;03m# worker failures.\u001b[39;00m\n",
      "File \u001b[0;32m/usr/lib/python3.8/multiprocessing/queues.py:107\u001b[0m, in \u001b[0;36mQueue.get\u001b[0;34m(self, block, timeout)\u001b[0m\n\u001b[1;32m    105\u001b[0m \u001b[38;5;28;01mif\u001b[39;00m block:\n\u001b[1;32m    106\u001b[0m     timeout \u001b[38;5;241m=\u001b[39m deadline \u001b[38;5;241m-\u001b[39m time\u001b[38;5;241m.\u001b[39mmonotonic()\n\u001b[0;32m--> 107\u001b[0m     \u001b[38;5;28;01mif\u001b[39;00m \u001b[38;5;129;01mnot\u001b[39;00m \u001b[38;5;28;43mself\u001b[39;49m\u001b[38;5;241;43m.\u001b[39;49m\u001b[43m_poll\u001b[49m\u001b[43m(\u001b[49m\u001b[43mtimeout\u001b[49m\u001b[43m)\u001b[49m:\n\u001b[1;32m    108\u001b[0m         \u001b[38;5;28;01mraise\u001b[39;00m Empty\n\u001b[1;32m    109\u001b[0m \u001b[38;5;28;01melif\u001b[39;00m \u001b[38;5;129;01mnot\u001b[39;00m \u001b[38;5;28mself\u001b[39m\u001b[38;5;241m.\u001b[39m_poll():\n",
      "File \u001b[0;32m/usr/lib/python3.8/multiprocessing/connection.py:257\u001b[0m, in \u001b[0;36m_ConnectionBase.poll\u001b[0;34m(self, timeout)\u001b[0m\n\u001b[1;32m    255\u001b[0m \u001b[38;5;28mself\u001b[39m\u001b[38;5;241m.\u001b[39m_check_closed()\n\u001b[1;32m    256\u001b[0m \u001b[38;5;28mself\u001b[39m\u001b[38;5;241m.\u001b[39m_check_readable()\n\u001b[0;32m--> 257\u001b[0m \u001b[38;5;28;01mreturn\u001b[39;00m \u001b[38;5;28;43mself\u001b[39;49m\u001b[38;5;241;43m.\u001b[39;49m\u001b[43m_poll\u001b[49m\u001b[43m(\u001b[49m\u001b[43mtimeout\u001b[49m\u001b[43m)\u001b[49m\n",
      "File \u001b[0;32m/usr/lib/python3.8/multiprocessing/connection.py:424\u001b[0m, in \u001b[0;36mConnection._poll\u001b[0;34m(self, timeout)\u001b[0m\n\u001b[1;32m    423\u001b[0m \u001b[38;5;28;01mdef\u001b[39;00m \u001b[38;5;21m_poll\u001b[39m(\u001b[38;5;28mself\u001b[39m, timeout):\n\u001b[0;32m--> 424\u001b[0m     r \u001b[38;5;241m=\u001b[39m \u001b[43mwait\u001b[49m\u001b[43m(\u001b[49m\u001b[43m[\u001b[49m\u001b[38;5;28;43mself\u001b[39;49m\u001b[43m]\u001b[49m\u001b[43m,\u001b[49m\u001b[43m \u001b[49m\u001b[43mtimeout\u001b[49m\u001b[43m)\u001b[49m\n\u001b[1;32m    425\u001b[0m     \u001b[38;5;28;01mreturn\u001b[39;00m \u001b[38;5;28mbool\u001b[39m(r)\n",
      "File \u001b[0;32m/usr/lib/python3.8/multiprocessing/connection.py:931\u001b[0m, in \u001b[0;36mwait\u001b[0;34m(object_list, timeout)\u001b[0m\n\u001b[1;32m    928\u001b[0m     deadline \u001b[38;5;241m=\u001b[39m time\u001b[38;5;241m.\u001b[39mmonotonic() \u001b[38;5;241m+\u001b[39m timeout\n\u001b[1;32m    930\u001b[0m \u001b[38;5;28;01mwhile\u001b[39;00m \u001b[38;5;28;01mTrue\u001b[39;00m:\n\u001b[0;32m--> 931\u001b[0m     ready \u001b[38;5;241m=\u001b[39m \u001b[43mselector\u001b[49m\u001b[38;5;241;43m.\u001b[39;49m\u001b[43mselect\u001b[49m\u001b[43m(\u001b[49m\u001b[43mtimeout\u001b[49m\u001b[43m)\u001b[49m\n\u001b[1;32m    932\u001b[0m     \u001b[38;5;28;01mif\u001b[39;00m ready:\n\u001b[1;32m    933\u001b[0m         \u001b[38;5;28;01mreturn\u001b[39;00m [key\u001b[38;5;241m.\u001b[39mfileobj \u001b[38;5;28;01mfor\u001b[39;00m (key, events) \u001b[38;5;129;01min\u001b[39;00m ready]\n",
      "File \u001b[0;32m/usr/lib/python3.8/selectors.py:415\u001b[0m, in \u001b[0;36m_PollLikeSelector.select\u001b[0;34m(self, timeout)\u001b[0m\n\u001b[1;32m    413\u001b[0m ready \u001b[38;5;241m=\u001b[39m []\n\u001b[1;32m    414\u001b[0m \u001b[38;5;28;01mtry\u001b[39;00m:\n\u001b[0;32m--> 415\u001b[0m     fd_event_list \u001b[38;5;241m=\u001b[39m \u001b[38;5;28;43mself\u001b[39;49m\u001b[38;5;241;43m.\u001b[39;49m\u001b[43m_selector\u001b[49m\u001b[38;5;241;43m.\u001b[39;49m\u001b[43mpoll\u001b[49m\u001b[43m(\u001b[49m\u001b[43mtimeout\u001b[49m\u001b[43m)\u001b[49m\n\u001b[1;32m    416\u001b[0m \u001b[38;5;28;01mexcept\u001b[39;00m \u001b[38;5;167;01mInterruptedError\u001b[39;00m:\n\u001b[1;32m    417\u001b[0m     \u001b[38;5;28;01mreturn\u001b[39;00m ready\n",
      "\u001b[0;31mKeyboardInterrupt\u001b[0m: "
     ]
    }
   ],
   "source": [
    "for epoch in range(50):\n",
    "    running_loss = 0.\n",
    "    total = 0.\n",
    "    correct = 0.\n",
    "    for i, (data, target) in enumerate(dataloader):\n",
    "        data = data.to(device) # Move data to target device\n",
    "        target = target.to(device)\n",
    "\n",
    "        # zero the parameter gradients\n",
    "        optimizer.zero_grad()\n",
    "\n",
    "        cls = model(data)\n",
    "        \n",
    "        loss = criterion(cls, target)\n",
    "        \n",
    "        loss.backward()\n",
    "        \n",
    "        optimizer.step()\n",
    "\n",
    "        running_loss += loss.item()\n",
    "        predictions = cls.max(dim=1)[1]\n",
    "        total += predictions.size(0)\n",
    "        correct += (predictions == target).sum().item()\n",
    "        \n",
    "        if i%log_n == log_n-1:\n",
    "            rll += [epoch, i, running_loss]\n",
    "            print(f'Epoch : {epoch}, Iteration : {i},Running loss : {running_loss/log_n}, Train Accuracy : {correct/total}')\n",
    "            running_loss, total, correct = 0, 0, 0\n",
    "    if epoch%10 == 0:\n",
    "        total_loss += [compute_loss(dataloader, model, criterion)]\n",
    "        print(f'Total loss : {total_loss[-1]}')"
   ]
  },
  {
   "cell_type": "markdown",
   "id": "16098b7f",
   "metadata": {},
   "source": [
    "### Plot the loss vs iterations"
   ]
  },
  {
   "cell_type": "code",
   "execution_count": 19,
   "id": "0aa8221d",
   "metadata": {},
   "outputs": [
    {
     "data": {
      "image/png": "[encoded data removed]",
      "text/plain": [
       "<Figure size 432x288 with 1 Axes>"
      ]
     },
     "metadata": {
      "needs_background": "light"
     },
     "output_type": "display_data"
    }
   ],
   "source": [
    "plt.plot(np.array(rll).reshape((-1, 3))[:, 2], label='Running Loss')\n",
    "plt.xlabel('iteration')\n",
    "plt.ylabel('loss')\n",
    "plt.title('Running loss')\n",
    "plt.legend()\n",
    "plt.show()"
   ]
  },
  {
   "cell_type": "markdown",
   "id": "0b898168",
   "metadata": {},
   "source": [
    "### Plot the Loss, and Accuray vs epochs"
   ]
  },
  {
   "cell_type": "code",
   "execution_count": 20,
   "id": "f1b00c1e",
   "metadata": {},
   "outputs": [
    {
     "data": {
      "image/png": "[encoded data removed]",
      "text/plain": [
       "<Figure size 432x288 with 1 Axes>"
      ]
     },
     "metadata": {
      "needs_background": "light"
     },
     "output_type": "display_data"
    }
   ],
   "source": [
    "plt.plot(total_loss, label=['Total loss', 'Total Accuracy'])\n",
    "plt.xlabel('epochs')\n",
    "plt.ylabel('loss')\n",
    "plt.title('Total loss')\n",
    "plt.legend()\n",
    "plt.show()"
   ]
  },
  {
   "cell_type": "markdown",
   "id": "17e6553f",
   "metadata": {},
   "source": [
    "### Save the model"
   ]
  },
  {
   "cell_type": "code",
   "execution_count": 21,
   "id": "6898d3c3",
   "metadata": {},
   "outputs": [],
   "source": [
    "torch.save(model.encoder.state_dict(), './encoder_state_simple_backbone2')\n",
    "torch.save(model.state_dict(), './simple_backbone2_model')"
   ]
  },
  {
   "cell_type": "markdown",
   "id": "437fab87",
   "metadata": {},
   "source": [
    "> For inference pl. look at the `Inference Attention Classifier` notebook\n",
    "\n",
    "> The notebook doesn't contain actual graphs, as the training process was complex, and storing graphs were not possible, one need to run the training loop to see the graphs."
   ]
  },
  {
   "cell_type": "markdown",
   "id": "c940e7c3",
   "metadata": {},
   "source": [
    "> There are more .ipynb related to different models in the same directory.\n",
    "> All of them trained upto training accuracy upto `84%`"
   ]
  },
  {
   "cell_type": "code",
   "execution_count": null,
   "id": "6c636ada",
   "metadata": {},
   "outputs": [],
   "source": []
  }
 ],
 "metadata": {
  "kernelspec": {
   "display_name": "Python 3 (ipykernel)",
   "language": "python",
   "name": "python3"
  },
  "language_info": {
   "codemirror_mode": {
    "name": "ipython",
    "version": 3
   },
   "file_extension": ".py",
   "mimetype": "text/x-python",
   "name": "python",
   "nbconvert_exporter": "python",
   "pygments_lexer": "ipython3",
   "version": "3.8.10"
  }
 },
 "nbformat": 4,
 "nbformat_minor": 5
}
