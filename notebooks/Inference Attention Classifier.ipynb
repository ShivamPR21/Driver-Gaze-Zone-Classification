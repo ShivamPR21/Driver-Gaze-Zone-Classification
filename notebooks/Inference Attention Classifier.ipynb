{
 "cells": [
  {
   "cell_type": "markdown",
   "id": "0f30314a",
   "metadata": {},
   "source": [
    "## 17807671 Shivam Pandey\n",
    "### Assignment3 CE784A\n",
    "> For complete source code pl. refer to following repositories\n",
    "> https://github.com/ShivamPR21/ModuleZooTorch\n",
    "> https://github.com/ShivamPR21/Driver-Gaze-Zone-Classification\n",
    "> Code credit @ShivamPR21"
   ]
  },
  {
   "cell_type": "markdown",
   "id": "a5a140e9",
   "metadata": {},
   "source": [
    "### Import relevent modules"
   ]
  },
  {
   "cell_type": "code",
   "execution_count": 1,
   "id": "692ced2b",
   "metadata": {},
   "outputs": [],
   "source": [
    "import numpy as np\n",
    "import pandas as pd\n",
    "import matplotlib.pyplot as plt\n",
    "\n",
    "from torch.utils.data import DataLoader\n",
    "import torch.nn as nn\n",
    "import torchsummary\n",
    "import torch\n",
    "import torch.optim as optim\n",
    "\n",
    "from dgzc.dataset import DGZCInferenceDataset\n",
    "from dgzc.classifier import ClassificationBackbone2"
   ]
  },
  {
   "cell_type": "markdown",
   "id": "2c1207d7",
   "metadata": {},
   "source": [
    "### Define training dataset"
   ]
  },
  {
   "cell_type": "code",
   "execution_count": 2,
   "id": "ea5c4c97",
   "metadata": {},
   "outputs": [],
   "source": [
    "data_path = \"/home/shivam/2021-22-2/ML4CE/Assignments/Assignment3/Driver-Gaze-Zone-Classification/data/gaze_dataset\"\n",
    "# dataset_auto_enc = DGZCAutoEncoderDataset(data_path, size=(200, 200))\n",
    "# dataset_classifier = DGZCClassifierDataset(data_path, size=(200, 200))\n",
    "dataset_inference = DGZCInferenceDataset(data_path, size=(200, 200))"
   ]
  },
  {
   "cell_type": "code",
   "execution_count": 3,
   "id": "a81db5c2",
   "metadata": {},
   "outputs": [],
   "source": [
    "inv_class_map = {0 : 'Centerstack',\n",
    "                 1 : 'Forward',\n",
    "                 2 : 'Left_wing_mirror',\n",
    "                 3 : 'Rearview_mirror',\n",
    "                 4 : 'Right_wing_mirror',\n",
    "                 -1 : 'other'}"
   ]
  },
  {
   "cell_type": "markdown",
   "id": "a5effac6",
   "metadata": {},
   "source": [
    "### Create the dataloader with batch size `10`"
   ]
  },
  {
   "cell_type": "code",
   "execution_count": 4,
   "id": "62926932",
   "metadata": {},
   "outputs": [],
   "source": [
    "dataloader = DataLoader(dataset_inference, batch_size = 10, shuffle = False, num_workers=5)"
   ]
  },
  {
   "cell_type": "markdown",
   "id": "2685fa70",
   "metadata": {},
   "source": [
    "### Set the device to GPU if available"
   ]
  },
  {
   "cell_type": "code",
   "execution_count": 5,
   "id": "e8047001",
   "metadata": {},
   "outputs": [],
   "source": [
    "device = torch.device('cuda' if torch.cuda.is_available() else 'cpu')"
   ]
  },
  {
   "cell_type": "code",
   "execution_count": 6,
   "id": "0b3267dc",
   "metadata": {},
   "outputs": [],
   "source": [
    "data_len = len(dataloader)\n",
    "log_n = int(data_len//3)"
   ]
  },
  {
   "cell_type": "markdown",
   "id": "9e5d90b6",
   "metadata": {},
   "source": [
    "### Create model instance"
   ]
  },
  {
   "cell_type": "code",
   "execution_count": 7,
   "id": "323f1328",
   "metadata": {},
   "outputs": [
    {
     "data": {
      "text/plain": [
       "ClassificationBackbone2(\n",
       "  (encoder): Encoder(\n",
       "    (conv1): Conv2DNormActivation(\n",
       "      (0): Conv2d(3, 5, kernel_size=(5, 5), stride=(2, 2))\n",
       "      (1): SELU()\n",
       "    )\n",
       "    (conv2): Conv2DNormActivation(\n",
       "      (0): Conv2d(5, 10, kernel_size=(5, 5), stride=(1, 1), bias=False)\n",
       "      (1): BatchNorm2d(10, eps=1e-05, momentum=0.1, affine=True, track_running_stats=True)\n",
       "      (2): SELU()\n",
       "    )\n",
       "    (max_pool2): MaxPool2d(kernel_size=2, stride=2, padding=0, dilation=1, ceil_mode=False)\n",
       "    (conv3): Conv2DNormActivation(\n",
       "      (0): Conv2d(10, 20, kernel_size=(3, 3), stride=(1, 1))\n",
       "      (1): SELU()\n",
       "    )\n",
       "    (conv4): Conv2DNormActivation(\n",
       "      (0): Conv2d(20, 20, kernel_size=(3, 3), stride=(1, 1))\n",
       "      (1): SELU()\n",
       "    )\n",
       "    (conv5): Conv2DNormActivation(\n",
       "      (0): Conv2d(20, 30, kernel_size=(3, 3), stride=(1, 1), bias=False)\n",
       "      (1): BatchNorm2d(30, eps=1e-05, momentum=0.1, affine=True, track_running_stats=True)\n",
       "      (2): SELU()\n",
       "    )\n",
       "    (conv6): Conv2DNormActivation(\n",
       "      (0): Conv2d(30, 40, kernel_size=(3, 3), stride=(1, 1))\n",
       "      (1): SELU()\n",
       "    )\n",
       "  )\n",
       "  (attention1): SelfAttention(\n",
       "    (query_conv): Conv2d(40, 5, kernel_size=(1, 1), stride=(1, 1))\n",
       "    (key_conv): Conv2d(40, 5, kernel_size=(1, 1), stride=(1, 1))\n",
       "    (value_conv): Conv2d(40, 40, kernel_size=(1, 1), stride=(1, 1))\n",
       "    (softmax): Softmax(dim=-1)\n",
       "  )\n",
       "  (conv1): Conv2DNormActivation(\n",
       "    (0): Conv2d(40, 50, kernel_size=(3, 3), stride=(2, 2))\n",
       "    (1): SELU()\n",
       "  )\n",
       "  (attention2): SelfAttention(\n",
       "    (query_conv): Conv2d(50, 6, kernel_size=(1, 1), stride=(1, 1))\n",
       "    (key_conv): Conv2d(50, 6, kernel_size=(1, 1), stride=(1, 1))\n",
       "    (value_conv): Conv2d(50, 50, kernel_size=(1, 1), stride=(1, 1))\n",
       "    (softmax): Softmax(dim=-1)\n",
       "  )\n",
       "  (conv2): Conv2DNormActivation(\n",
       "    (0): Conv2d(50, 40, kernel_size=(3, 3), stride=(2, 2))\n",
       "    (1): SELU()\n",
       "  )\n",
       "  (conv3): Conv2DNormActivation(\n",
       "    (0): Conv2d(40, 30, kernel_size=(3, 3), stride=(2, 2), bias=False)\n",
       "    (1): BatchNorm2d(30, eps=1e-05, momentum=0.1, affine=True, track_running_stats=True)\n",
       "    (2): SELU()\n",
       "  )\n",
       "  (conv4): Conv2DNormActivation(\n",
       "    (0): Conv2d(30, 20, kernel_size=(3, 3), stride=(2, 2))\n",
       "    (1): SELU()\n",
       "  )\n",
       "  (linear1): Linear(in_features=20, out_features=10, bias=True)\n",
       "  (linear2): Linear(in_features=10, out_features=5, bias=True)\n",
       "  (activation): SELU()\n",
       "  (classifier): Softmax(dim=1)\n",
       ")"
      ]
     },
     "execution_count": 7,
     "metadata": {},
     "output_type": "execute_result"
    }
   ],
   "source": [
    "model = ClassificationBackbone2(l=1.)\n",
    "model.to(device)"
   ]
  },
  {
   "cell_type": "markdown",
   "id": "cfdfc76e",
   "metadata": {},
   "source": [
    "### Load pretrained weight dicts"
   ]
  },
  {
   "cell_type": "code",
   "execution_count": 8,
   "id": "9555b66c",
   "metadata": {},
   "outputs": [],
   "source": [
    "load_prev_auto_enc_state = False\n",
    "load_prev_model_state = True\n",
    "if load_prev_auto_enc_state:\n",
    "    model.encoder.load_state_dict(torch.load('./encoder_state'))\n",
    "elif load_prev_model_state:\n",
    "    model.load_state_dict(torch.load('./simple_backbone2_model'))"
   ]
  },
  {
   "cell_type": "markdown",
   "id": "b1cd9c01",
   "metadata": {},
   "source": [
    "### View model summary"
   ]
  },
  {
   "cell_type": "code",
   "execution_count": 9,
   "id": "208aa40a",
   "metadata": {},
   "outputs": [
    {
     "name": "stdout",
     "output_type": "stream",
     "text": [
      "----------------------------------------------------------------\n",
      "        Layer (type)               Output Shape         Param #\n",
      "================================================================\n",
      "            Conv2d-1            [-1, 5, 98, 98]             380\n",
      "              SELU-2            [-1, 5, 98, 98]               0\n",
      "            Conv2d-3           [-1, 10, 94, 94]           1,250\n",
      "       BatchNorm2d-4           [-1, 10, 94, 94]              20\n",
      "              SELU-5           [-1, 10, 94, 94]               0\n",
      "         MaxPool2d-6           [-1, 10, 47, 47]               0\n",
      "            Conv2d-7           [-1, 20, 45, 45]           1,820\n",
      "              SELU-8           [-1, 20, 45, 45]               0\n",
      "            Conv2d-9           [-1, 20, 43, 43]           3,620\n",
      "             SELU-10           [-1, 20, 43, 43]               0\n",
      "           Conv2d-11           [-1, 30, 41, 41]           5,400\n",
      "      BatchNorm2d-12           [-1, 30, 41, 41]              60\n",
      "             SELU-13           [-1, 30, 41, 41]               0\n",
      "           Conv2d-14           [-1, 40, 39, 39]          10,840\n",
      "             SELU-15           [-1, 40, 39, 39]               0\n",
      "          Encoder-16           [-1, 40, 39, 39]               0\n",
      "           Conv2d-17            [-1, 5, 39, 39]             205\n",
      "           Conv2d-18            [-1, 5, 39, 39]             205\n",
      "          Softmax-19           [-1, 1521, 1521]               0\n",
      "           Conv2d-20           [-1, 40, 39, 39]           1,640\n",
      "    SelfAttention-21           [-1, 40, 39, 39]               0\n",
      "           Conv2d-22           [-1, 50, 19, 19]          18,050\n",
      "             SELU-23           [-1, 50, 19, 19]               0\n",
      "           Conv2d-24            [-1, 6, 19, 19]             306\n",
      "           Conv2d-25            [-1, 6, 19, 19]             306\n",
      "          Softmax-26             [-1, 361, 361]               0\n",
      "           Conv2d-27           [-1, 50, 19, 19]           2,550\n",
      "    SelfAttention-28           [-1, 50, 19, 19]               0\n",
      "           Conv2d-29             [-1, 40, 9, 9]          18,040\n",
      "             SELU-30             [-1, 40, 9, 9]               0\n",
      "           Conv2d-31             [-1, 30, 4, 4]          10,800\n",
      "      BatchNorm2d-32             [-1, 30, 4, 4]              60\n",
      "             SELU-33             [-1, 30, 4, 4]               0\n",
      "           Conv2d-34             [-1, 20, 1, 1]           5,420\n",
      "             SELU-35             [-1, 20, 1, 1]               0\n",
      "           Linear-36                   [-1, 10]             210\n",
      "             SELU-37                   [-1, 10]               0\n",
      "           Linear-38                    [-1, 5]              55\n",
      "          Softmax-39                    [-1, 5]               0\n",
      "================================================================\n",
      "Total params: 81,237\n",
      "Trainable params: 81,237\n",
      "Non-trainable params: 0\n",
      "----------------------------------------------------------------\n",
      "Input size (MB): 0.46\n",
      "Forward/backward pass size (MB): 26.99\n",
      "Params size (MB): 0.31\n",
      "Estimated Total Size (MB): 27.75\n",
      "----------------------------------------------------------------\n"
     ]
    }
   ],
   "source": [
    "torchsummary.summary(model, (3, 200, 200))"
   ]
  },
  {
   "cell_type": "markdown",
   "id": "aae2848a",
   "metadata": {},
   "source": [
    "### Set model as non-trainable"
   ]
  },
  {
   "cell_type": "code",
   "execution_count": 10,
   "id": "fdee2f25",
   "metadata": {},
   "outputs": [
    {
     "data": {
      "text/plain": [
       "ClassificationBackbone2(\n",
       "  (encoder): Encoder(\n",
       "    (conv1): Conv2DNormActivation(\n",
       "      (0): Conv2d(3, 5, kernel_size=(5, 5), stride=(2, 2))\n",
       "      (1): SELU()\n",
       "    )\n",
       "    (conv2): Conv2DNormActivation(\n",
       "      (0): Conv2d(5, 10, kernel_size=(5, 5), stride=(1, 1), bias=False)\n",
       "      (1): BatchNorm2d(10, eps=1e-05, momentum=0.1, affine=True, track_running_stats=True)\n",
       "      (2): SELU()\n",
       "    )\n",
       "    (max_pool2): MaxPool2d(kernel_size=2, stride=2, padding=0, dilation=1, ceil_mode=False)\n",
       "    (conv3): Conv2DNormActivation(\n",
       "      (0): Conv2d(10, 20, kernel_size=(3, 3), stride=(1, 1))\n",
       "      (1): SELU()\n",
       "    )\n",
       "    (conv4): Conv2DNormActivation(\n",
       "      (0): Conv2d(20, 20, kernel_size=(3, 3), stride=(1, 1))\n",
       "      (1): SELU()\n",
       "    )\n",
       "    (conv5): Conv2DNormActivation(\n",
       "      (0): Conv2d(20, 30, kernel_size=(3, 3), stride=(1, 1), bias=False)\n",
       "      (1): BatchNorm2d(30, eps=1e-05, momentum=0.1, affine=True, track_running_stats=True)\n",
       "      (2): SELU()\n",
       "    )\n",
       "    (conv6): Conv2DNormActivation(\n",
       "      (0): Conv2d(30, 40, kernel_size=(3, 3), stride=(1, 1))\n",
       "      (1): SELU()\n",
       "    )\n",
       "  )\n",
       "  (attention1): SelfAttention(\n",
       "    (query_conv): Conv2d(40, 5, kernel_size=(1, 1), stride=(1, 1))\n",
       "    (key_conv): Conv2d(40, 5, kernel_size=(1, 1), stride=(1, 1))\n",
       "    (value_conv): Conv2d(40, 40, kernel_size=(1, 1), stride=(1, 1))\n",
       "    (softmax): Softmax(dim=-1)\n",
       "  )\n",
       "  (conv1): Conv2DNormActivation(\n",
       "    (0): Conv2d(40, 50, kernel_size=(3, 3), stride=(2, 2))\n",
       "    (1): SELU()\n",
       "  )\n",
       "  (attention2): SelfAttention(\n",
       "    (query_conv): Conv2d(50, 6, kernel_size=(1, 1), stride=(1, 1))\n",
       "    (key_conv): Conv2d(50, 6, kernel_size=(1, 1), stride=(1, 1))\n",
       "    (value_conv): Conv2d(50, 50, kernel_size=(1, 1), stride=(1, 1))\n",
       "    (softmax): Softmax(dim=-1)\n",
       "  )\n",
       "  (conv2): Conv2DNormActivation(\n",
       "    (0): Conv2d(50, 40, kernel_size=(3, 3), stride=(2, 2))\n",
       "    (1): SELU()\n",
       "  )\n",
       "  (conv3): Conv2DNormActivation(\n",
       "    (0): Conv2d(40, 30, kernel_size=(3, 3), stride=(2, 2), bias=False)\n",
       "    (1): BatchNorm2d(30, eps=1e-05, momentum=0.1, affine=True, track_running_stats=True)\n",
       "    (2): SELU()\n",
       "  )\n",
       "  (conv4): Conv2DNormActivation(\n",
       "    (0): Conv2d(30, 20, kernel_size=(3, 3), stride=(2, 2))\n",
       "    (1): SELU()\n",
       "  )\n",
       "  (linear1): Linear(in_features=20, out_features=10, bias=True)\n",
       "  (linear2): Linear(in_features=10, out_features=5, bias=True)\n",
       "  (activation): SELU()\n",
       "  (classifier): Softmax(dim=1)\n",
       ")"
      ]
     },
     "execution_count": 10,
     "metadata": {},
     "output_type": "execute_result"
    }
   ],
   "source": [
    "model.eval()"
   ]
  },
  {
   "cell_type": "markdown",
   "id": "272181c0",
   "metadata": {},
   "source": [
    "### Find the labels, from model"
   ]
  },
  {
   "cell_type": "code",
   "execution_count": 11,
   "id": "69eb44aa",
   "metadata": {},
   "outputs": [],
   "source": [
    "labels = []"
   ]
  },
  {
   "cell_type": "code",
   "execution_count": 12,
   "id": "e57b3a8b",
   "metadata": {
    "scrolled": true
   },
   "outputs": [],
   "source": [
    "for i, (data, target) in enumerate(dataloader):\n",
    "    data = data.to(device) # Move data to target device\n",
    "\n",
    "    cls = model(data)\n",
    "\n",
    "    predictions = cls.max(dim=1)[1]\n",
    "    labels += list(predictions.detach().cpu().numpy())"
   ]
  },
  {
   "cell_type": "markdown",
   "id": "81b21dfd",
   "metadata": {},
   "source": [
    "### Convert index labels to names"
   ]
  },
  {
   "cell_type": "code",
   "execution_count": 19,
   "id": "bdbe1db7",
   "metadata": {
    "scrolled": true
   },
   "outputs": [],
   "source": [
    "str_labels = [inv_class_map[x] for x in labels]"
   ]
  },
  {
   "cell_type": "code",
   "execution_count": 20,
   "id": "59c9d599",
   "metadata": {},
   "outputs": [],
   "source": [
    "f_names = [x.split('/')[-1] for x in dataset_inference.images_path]"
   ]
  },
  {
   "cell_type": "code",
   "execution_count": 21,
   "id": "fdea1c35",
   "metadata": {},
   "outputs": [],
   "source": [
    "int_f_names = [int(x.split('.')[0]) for x in f_names]"
   ]
  },
  {
   "cell_type": "markdown",
   "id": "4290dfd7",
   "metadata": {},
   "source": [
    "### Export predictions to `.csv` file"
   ]
  },
  {
   "cell_type": "code",
   "execution_count": 22,
   "id": "01d6ccac",
   "metadata": {},
   "outputs": [],
   "source": [
    "idx = np.argsort(int_f_names)"
   ]
  },
  {
   "cell_type": "code",
   "execution_count": 23,
   "id": "243a4019",
   "metadata": {},
   "outputs": [],
   "source": [
    "data = np.array([f_names, str_labels]).T\n",
    "data = data[idx]\n",
    "result_df = pd.DataFrame(data, columns=['filename', 'class'])"
   ]
  },
  {
   "cell_type": "code",
   "execution_count": 24,
   "id": "4377b373",
   "metadata": {},
   "outputs": [],
   "source": [
    "result_df.to_csv('./result5.csv', index=False)"
   ]
  },
  {
   "cell_type": "code",
   "execution_count": null,
   "id": "2d8c434f",
   "metadata": {},
   "outputs": [],
   "source": []
  }
 ],
 "metadata": {
  "kernelspec": {
   "display_name": "Python 3 (ipykernel)",
   "language": "python",
   "name": "python3"
  },
  "language_info": {
   "codemirror_mode": {
    "name": "ipython",
    "version": 3
   },
   "file_extension": ".py",
   "mimetype": "text/x-python",
   "name": "python",
   "nbconvert_exporter": "python",
   "pygments_lexer": "ipython3",
   "version": "3.8.10"
  }
 },
 "nbformat": 4,
 "nbformat_minor": 5
}
